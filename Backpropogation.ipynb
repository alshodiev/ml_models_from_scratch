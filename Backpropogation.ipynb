{
 "cells": [
  {
   "cell_type": "code",
   "execution_count": 11,
   "id": "6d327d91",
   "metadata": {},
   "outputs": [],
   "source": [
    "import pandas as pd\n",
    "import numpy as np\n",
    "from sklearn.datasets import make_classification\n",
    "from sklearn.model_selection import train_test_split"
   ]
  },
  {
   "cell_type": "code",
   "execution_count": null,
   "id": "2137365d",
   "metadata": {},
   "outputs": [],
   "source": [
    "class Perceptron:\n",
    "    def __init__(self, learning_rate = 0.003, n_iterations = 1000):\n",
    "        self.learning_rate = learning_rate\n",
    "        self.n_iterations = n_iterations\n",
    "        self.weights = None\n",
    "        self.bias = None \n",
    "    \n",
    "    def fit(self, X,y):\n",
    "        n_samples, n_features = X.shape\n",
    "\n",
    "        self.weights = np.zeros(n_features)\n",
    "        self.bias = 0\n",
    "\n",
    "        for _ in range(self.n_iterations):\n",
    "            for (x_i, y_i) in zip(X,y):\n",
    "                lin_output = y_i *(np.dot(self.weights, x_i) + self.bias)\n",
    "                y_pred = np.sign(lin_output)\n",
    "                if y_pred != y_i: # misclassified\n",
    "                    self.weights += self.learning_rate * y_i * x_i \n",
    "                    self.bias += self.learning_rate * y_i\n",
    "\n",
    "    def predict(self, X):\n",
    "        lin_output = np.dot(self.weights, X) + self.bias\n",
    "        return np.sign(lin_output)"
   ]
  },
  {
   "cell_type": "code",
   "execution_count": null,
   "id": "4c978d57",
   "metadata": {},
   "outputs": [],
   "source": [
    "def sigmoid(z):\n",
    "    return 1 / (1 + np.exp(-z))\n",
    "\n",
    "class Backpropogation:\n",
    "    def __init__(self, learning_rate = 0.003, n_iterations = 10000):\n",
    "        self.learning_rate = learning_rate\n",
    "        self.n_iterations = n_iterations\n",
    "        self.loss_history = []\n",
    "        self.weights = None \n",
    "        self.bias = None \n",
    "    \n",
    "    def fit(self, X,y):\n",
    "        n_samples, n_features = X.shape \n",
    "        self.weights = np.zeros(n_features)\n",
    "        self.bias = 0\n",
    "\n",
    "\n",
    "        for _ in range(self.n_iterations):\n",
    "            z = np.dot(X, self.weights) + self.bias \n",
    "            y_hat = sigmoid(z)\n",
    "\n",
    "            loss = (-(y*np.log(y_hat) + (1-y)*np.log(1- y_hat))).mean()\n",
    "            self.loss_history.append(loss)\n",
    "\n",
    "            # gradients\n",
    "            d_y_hat = -(y/y_hat) + (1-y)/(1-y_hat)\n",
    "            dz = d_y_hat * y_hat * (1 - y_hat)\n",
    "\n",
    "            # average gradients\n",
    "            dw = np.dot(X.T, dz)/ n_samples\n",
    "            db = dz.mean()\n",
    "\n",
    "            # update parameters\n",
    "            self.weights -= self.learning_rate * dw \n",
    "            self.bias -= self.learning_rate * db \n",
    "\n",
    "    def predict_proba(self, X):\n",
    "        z = np.dot(X, self.weights) + self.bias \n",
    "        return sigmoid(z)\n",
    "    \n",
    "    # when calling this fn- the model uses the learned weights and biases to compute probabilties for the sample X and classify them\n",
    "    def predict(self, X):\n",
    "        proba = self.predict_proba(X)\n",
    "        return (proba >= 0.5).astype(int)\n",
    "\n",
    "    def score(self, X, y):\n",
    "        y_pred = self.predict(X)\n",
    "        return np.mean(y_pred == y)"
   ]
  },
  {
   "cell_type": "code",
   "execution_count": 48,
   "id": "eebaa419",
   "metadata": {},
   "outputs": [
    {
     "name": "stdout",
     "output_type": "stream",
     "text": [
      "Test Accuracy: 0.867%\n"
     ]
    }
   ],
   "source": [
    "X, y = make_classification(n_samples=10000, n_features=5, n_informative=3,\n",
    "                           n_redundant=0, n_classes=2, random_state=42)\n",
    "\n",
    "X_train, X_test, y_train, y_test = train_test_split(X,y, test_size= 0.2, random_state= 42)\n",
    "\n",
    "model = Backpropogation()\n",
    "model.fit(X_train, y_train)\n",
    "\n",
    "accuracy = model.score(X_test, y_test)\n",
    "print(f\"Test Accuracy: {accuracy}%\")\n"
   ]
  },
  {
   "cell_type": "code",
   "execution_count": 49,
   "id": "1a58ffcf",
   "metadata": {},
   "outputs": [
    {
     "data": {
      "image/png": "[encoded data removed]",
      "text/plain": [
       "<Figure size 1000x400 with 1 Axes>"
      ]
     },
     "metadata": {},
     "output_type": "display_data"
    }
   ],
   "source": [
    "import matplotlib.pyplot as plt\n",
    "\n",
    "plt.figure(figsize = (10,4))\n",
    "plt.plot(model.loss_history)\n",
    "plt.xlabel('Iteration')\n",
    "plt.ylabel('Loss')\n",
    "plt.title('Training Loss Curve')\n",
    "plt.show()"
   ]
  },
  {
   "cell_type": "code",
   "execution_count": null,
   "id": "c758e1a9",
   "metadata": {},
   "outputs": [],
   "source": []
  }
 ],
 "metadata": {
  "kernelspec": {
   "display_name": "rag_app",
   "language": "python",
   "name": "python3"
  },
  "language_info": {
   "codemirror_mode": {
    "name": "ipython",
    "version": 3
   },
   "file_extension": ".py",
   "mimetype": "text/x-python",
   "name": "python",
   "nbconvert_exporter": "python",
   "pygments_lexer": "ipython3",
   "version": "3.10.16"
  }
 },
 "nbformat": 4,
 "nbformat_minor": 5
}
