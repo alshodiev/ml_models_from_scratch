{
 "cells": [
  {
   "cell_type": "code",
   "execution_count": 2,
   "id": "aec0c266",
   "metadata": {},
   "outputs": [],
   "source": [
    "import numpy as np\n",
    "import pandas as pd"
   ]
  },
  {
   "cell_type": "markdown",
   "id": "753816c2",
   "metadata": {},
   "source": [
    "Minimize \n",
    "$$\n",
    "\\frac{1}{2} \\|w\\|^2 + C*\\sum_{i=1}^l \\max(0, y_i(1-w^T x_i -b))\n",
    "$$\n",
    "\n"
   ]
  },
  {
   "cell_type": "code",
   "execution_count": null,
   "id": "272e68e2",
   "metadata": {},
   "outputs": [],
   "source": [
    "class SVM:\n",
    "    def __init__(self, learning_rate = 0.003, regularization = 0.2, n_iterations = 1000):\n",
    "        self.learning_rate = learning_rate\n",
    "        self.regularization = regularization\n",
    "        self.n_iterations = n_iterations\n",
    "        self.weights = None\n",
    "        self.bias = None\n",
    "\n",
    "    # two that accumulates - batch GD and mini-batch\n",
    "    # update after each sample - sGD\n",
    "    def fit(self, X,y, batch_size = 32, beta = 0.9):\n",
    "        n_samples, n_features = X.shape \n",
    "\n",
    "        self.weights = np.zeros(n_features)\n",
    "        self.bias = 0\n",
    "\n",
    "        v_w = np.zeros(n_features)\n",
    "        v_b = 0\n",
    "\n",
    "        for _ in range(self.n_iterations):\n",
    "            \n",
    "            for (x_i, y_i) in zip(X,y):\n",
    "                margin = y_i * (np.dot(self.weights, x_i) + self.bias)\n",
    "                if margin >= 1:\n",
    "                    dw = self.regularization * self.weights\n",
    "                    db = 0\n",
    "\n",
    "                else:\n",
    "                    dw = self.regularization * self.weights - y_i * x_i\n",
    "                    db = -y_i \n",
    "                \n",
    "                # moving average of gradients with expo decay\n",
    "                v_w = beta * v_w + (1 - beta) * dw\n",
    "                v_b = beta * v_b + (1 - beta) * db \n",
    "\n",
    "                \n",
    "                self.weights -= self.learning_rate * v_w \n",
    "                self.bias -= self.learning_rate * v_b\n",
    "\n",
    " \n",
    "            \n",
    "              \n",
    "    def predict(self, X):\n",
    "        output = np.dot(X, self.weights) + self.bias \n",
    "        return np.sign(output)\n",
    "    \n",
    "    def accuracy(self, y_true, y_pred):\n",
    "        return np.sum(y_true == y_pred) / len(y_true)\n",
    "\n"
   ]
  },
  {
   "cell_type": "markdown",
   "id": "2f4350ae",
   "metadata": {},
   "source": [
    "Momentum dampens the oscillations without it, SGD oscillates across the slopes in the ravine\n",
    "> Instead of updating parameters just on the current gradients - momentum accumulates the expo moving decaying average of past gradients\n",
    "> this smoothes out noise via velocity vectors "
   ]
  },
  {
   "cell_type": "code",
   "execution_count": 39,
   "id": "222df531",
   "metadata": {},
   "outputs": [],
   "source": [
    "# Generate Synthethic data\n",
    "n_samples = 100\n",
    "n_features = 2\n",
    "\n",
    "X_pos = np.random.randn(n_samples // 2, n_features) + 2\n",
    "X_neg = np.random.randn(n_samples // 2, n_features) - 2\n",
    "X = np.vstack((X_pos, X_neg))\n",
    "\n",
    "y = np.hstack((np.ones(n_samples // 2), -1 * np.ones(n_samples // 2)))\n",
    "y_test = np.hstack((np.ones(10), -1 * np.ones(10)))"
   ]
  },
  {
   "cell_type": "code",
   "execution_count": 40,
   "id": "f34bc24e",
   "metadata": {},
   "outputs": [],
   "source": [
    "# Generate test samples for class +1\n",
    "X_pos_test = np.random.randn(10, n_features) + 2\n",
    "\n",
    "# Generate test samples for class -1\n",
    "X_neg_test = np.random.randn(10, n_features) - 2\n",
    "\n",
    "# Stack test inputs\n",
    "X_test = np.vstack((X_pos_test, X_neg_test))\n"
   ]
  },
  {
   "cell_type": "code",
   "execution_count": 41,
   "id": "f897eea2",
   "metadata": {},
   "outputs": [],
   "source": [
    "svm = SVM()\n",
    "svm.fit(X,y)\n",
    "y_pred = svm.predict(X_test)"
   ]
  },
  {
   "cell_type": "code",
   "execution_count": 42,
   "id": "6ffada47",
   "metadata": {},
   "outputs": [
    {
     "name": "stdout",
     "output_type": "stream",
     "text": [
      "Test Accuracy: 100.00%\n"
     ]
    }
   ],
   "source": [
    "acc = svm.accuracy(y_test, y_pred)\n",
    "print(f\"Test Accuracy: {acc * 100:.2f}%\")"
   ]
  },
  {
   "cell_type": "markdown",
   "id": "45720b93",
   "metadata": {},
   "source": [
    "Hand calculation"
   ]
  },
  {
   "cell_type": "code",
   "execution_count": 22,
   "id": "9459d14c",
   "metadata": {},
   "outputs": [],
   "source": [
    "X = np.array([\n",
    "    [-0.8, -0.2, 0.65, 0.11, -0.12],\n",
    "    [0.87, 0.5, -0.05, -0.76, 0.43],\n",
    "    [1, 1, 1, 1, 1]\n",
    "])\n",
    "\n",
    "y = np.array([1, -1, -1, -1, 1])\n",
    "\n",
    "w = np.array([10, 10, 0])"
   ]
  },
  {
   "cell_type": "code",
   "execution_count": null,
   "id": "c205ba61",
   "metadata": {},
   "outputs": [],
   "source": []
  }
 ],
 "metadata": {
  "kernelspec": {
   "display_name": "rag_app",
   "language": "python",
   "name": "python3"
  },
  "language_info": {
   "codemirror_mode": {
    "name": "ipython",
    "version": 3
   },
   "file_extension": ".py",
   "mimetype": "text/x-python",
   "name": "python",
   "nbconvert_exporter": "python",
   "pygments_lexer": "ipython3",
   "version": "3.10.16"
  }
 },
 "nbformat": 4,
 "nbformat_minor": 5
}
